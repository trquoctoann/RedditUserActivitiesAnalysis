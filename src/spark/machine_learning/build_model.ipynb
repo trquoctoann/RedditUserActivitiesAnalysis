{
 "cells": [
  {
   "cell_type": "code",
   "execution_count": 24,
   "id": "f4c5cb8b-1cd2-4c9e-a67e-5433d226d2f7",
   "metadata": {
    "tags": []
   },
   "outputs": [],
   "source": [
    "import logging\n",
    "import numpy as np\n",
    "from utilities import preprocessing\n",
    "from pyspark.sql.types import *\n",
    "from pyspark.sql import SparkSession\n",
    "from pyspark.ml.feature import HashingTF, IDF\n",
    "from pyspark.ml.feature import StringIndexer\n",
    "from pyspark.sql.functions import col, udf\n",
    "from pyspark.ml.classification import LogisticRegression"
   ]
  },
  {
   "cell_type": "code",
   "execution_count": 131,
   "id": "d2025e7c-194f-4e46-916b-4ddba48b7afb",
   "metadata": {
    "tags": []
   },
   "outputs": [],
   "source": [
    "logging.basicConfig(level=logging.INFO)\n",
    "logger = logging.getLogger(__name__)\n",
    "\n",
    "class TextClassificationEngine:\n",
    "    \n",
    "    def __init__(self, spark):\n",
    "        logger.info(\"Starting up text classification engine: \")\n",
    "        self.spark = spark\n",
    "        self.text_classification_data = self.__load_data_from_database()\n",
    "        self.preprocessed_data = self.__data_preprocessing()\n",
    "        self.hashing_tf, self.idf_vectorizer, self.rescaled_data = self.__vectorize_data()\n",
    "        self.model = self.__train_model() \n",
    "    \n",
    "    def __load_data_from_database(self) :\n",
    "        logger.info(\"Loading labled data...\")\n",
    "        text_classification_data = spark.read \\\n",
    "                                        .format(\"jdbc\") \\\n",
    "                                        .option(\"driver\",\"com.mysql.cj.jdbc.Driver\") \\\n",
    "                                        .option(\"url\", \"jdbc:mysql://web-database/Web\") \\\n",
    "                                        .option(\"dbtable\", \"textClassification\") \\\n",
    "                                        .option(\"user\", \"root\") \\\n",
    "                                        .option(\"password\", \"123\") \\\n",
    "                                        .load()\n",
    "        text_classification_data = text_classification_data.select('category', 'descriptions')\n",
    "        text_classification_data = text_classification_data.dropna(subset = ('category'))\n",
    "        logger.info(\"Loading completed\")\n",
    "        return text_classification_data\n",
    "\n",
    "    def __data_preprocessing(self):\n",
    "        logger.info(\"Preprocessing data...\")\n",
    "        preprocessed_data = preprocessing(self.text_classification_data, 'descriptions')\n",
    "        logger.info(\"Preprocessing completed\")\n",
    "        return preprocessed_data\n",
    "    \n",
    "    def __vectorize_data(self):\n",
    "        logger.info(\"Vectorize data...\")\n",
    "        hashing_tf = HashingTF(inputCol = \"filtered\", outputCol = \"raw_features\", numFeatures=10000)\n",
    "        featurized_data = hashing_tf.transform(self.preprocessed_data)\n",
    "\n",
    "        idf = IDF(inputCol = \"raw_features\", outputCol = \"features\")\n",
    "        idf_vectorizer = idf.fit(featurized_data)\n",
    "        rescaled_data = idf_vectorizer.transform(featurized_data).cache()\n",
    "        logger.info(\"Vectorization completed\")\n",
    "        return hashing_tf, idf_vectorizer, rescaled_data\n",
    "\n",
    "    def __train_model(self):\n",
    "        labelEncoder = StringIndexer(inputCol = 'category',outputCol = 'label').fit(self.rescaled_data)\n",
    "        df = labelEncoder.transform(self.rescaled_data)\n",
    "        \n",
    "        family = 'multinomial'\n",
    "        regParam = 0.3\n",
    "        elasticNetParam = 0\n",
    "        maxIter = 50\n",
    "        \n",
    "        logger.info(\"Training text classification model...\")\n",
    "        lr = LogisticRegression(featuresCol = 'features',\n",
    "                                labelCol = 'label',\n",
    "                                family = family,\n",
    "                                regParam = regParam,\n",
    "                                elasticNetParam = regParam,\n",
    "                                maxIter = maxIter)\n",
    "        model = lr.fit(df)\n",
    "        logger.info(\"Text classification model built!\")\n",
    "        return model\n",
    "    \n",
    "    def predict_label(self, input_data):\n",
    "        schema = StructType([StructField(\"post_id\", StringType(), True)\\\n",
    "                            ,StructField(\"descriptions\", StringType(), True)])\n",
    "        input_df = self.spark.createDataFrame(data = input_data, schema = schema)\n",
    "        input_df = preprocessing(input_df, 'descriptions')\n",
    "        \n",
    "        featurized_input_df = self.hashing_tf.transform(input_df)\n",
    "        rescaled_input_df = self.idf_vectorizer.transform(featurized_input_df) \n",
    "        predictions = self.model.transform(rescaled_input_df)\n",
    "        def get_label(label): \n",
    "            label_dict = {0.0: 'Business',\n",
    "                         1.0: 'Sci/Tech',\n",
    "                         2.0: 'Sports',\n",
    "                         3.0: 'World'}\n",
    "            return label_dict[label]\n",
    "        get_label_udf = udf(get_label, StringType())\n",
    "        predictions = predictions.withColumn('label_name', get_label_udf(col('prediction')))\n",
    "        return predictions.select('post_id', 'descriptions', 'label_name')"
   ]
  },
  {
   "cell_type": "code",
   "execution_count": 32,
   "id": "142a1912-1a31-4bc9-ad50-4d831386b98a",
   "metadata": {
    "tags": []
   },
   "outputs": [],
   "source": [
    "spark = SparkSession.builder \\\n",
    "           .appName('Test Text Classification Model') \\\n",
    "           .config(\"spark.jars\", \"mysql-connector-j-8.0.32.jar\")\\\n",
    "           .config(\"spark.driver.memory\", \"6g\") \\\n",
    "           .config(\"spark.executor.memory\", \"8g\") \\\n",
    "           .getOrCreate()"
   ]
  },
  {
   "cell_type": "code",
   "execution_count": 33,
   "id": "f32c0f0b-fa11-4d94-b51a-72450a6185b5",
   "metadata": {
    "tags": []
   },
   "outputs": [
    {
     "name": "stderr",
     "output_type": "stream",
     "text": [
      "INFO:__main__:Starting up text classification engine: \n",
      "INFO:__main__:Loading labled data...\n",
      "INFO:__main__:Loading completed\n",
      "INFO:__main__:Preprocessing data...\n",
      "INFO:__main__:Preprocessing completed\n",
      "INFO:__main__:Vectorize data...\n",
      "INFO:__main__:Vectorization completed\n",
      "INFO:__main__:Training text classification model...\n",
      "INFO:__main__:Text classification model built!\n"
     ]
    }
   ],
   "source": [
    "engine = TextClassificationEngine(spark)"
   ]
  },
  {
   "cell_type": "code",
   "execution_count": 207,
   "id": "b6038ee0-6aac-4ede-b98a-1f7103d53de1",
   "metadata": {
    "tags": []
   },
   "outputs": [],
   "source": [
    "test = [(1, \"President Xi Jinping says he doesn't want a hodgepodge 'street stall economy' in Beijing, even as China's youth unemployment rates hit a record high\"),\n",
    "        (2, \"Tech titans who are trying to live forever might soon have new ammunition: Next-gen anti-aging pills\"),\n",
    "        (3, \"Bank of England governor says the UK is facing a wage-price spiral\"), \n",
    "        (4, \"Congratulation Erling Haaland who score 2 goals last match with Manchester United\")]"
   ]
  },
  {
   "cell_type": "code",
   "execution_count": 208,
   "id": "78bcfb42-a40f-4d03-b152-7e488c3396d3",
   "metadata": {
    "tags": []
   },
   "outputs": [],
   "source": [
    "a = engine.predict_label(test)"
   ]
  },
  {
   "cell_type": "code",
   "execution_count": 209,
   "id": "81cdc0a9-add6-49e7-a923-d97eacfe662b",
   "metadata": {
    "tags": []
   },
   "outputs": [
    {
     "name": "stdout",
     "output_type": "stream",
     "text": [
      "+-------+--------------------+----------+\n",
      "|post_id|        descriptions|label_name|\n",
      "+-------+--------------------+----------+\n",
      "|      4|Congratulations t...|  Sci/Tech|\n",
      "+-------+--------------------+----------+\n",
      "\n"
     ]
    }
   ],
   "source": [
    "a.show()"
   ]
  },
  {
   "cell_type": "code",
   "execution_count": null,
   "id": "b2e962ee-2ad2-405f-8e11-4cd07b00bc85",
   "metadata": {},
   "outputs": [],
   "source": []
  }
 ],
 "metadata": {
  "kernelspec": {
   "display_name": "Python 3 (ipykernel)",
   "language": "python",
   "name": "python3"
  },
  "language_info": {
   "codemirror_mode": {
    "name": "ipython",
    "version": 3
   },
   "file_extension": ".py",
   "mimetype": "text/x-python",
   "name": "python",
   "nbconvert_exporter": "python",
   "pygments_lexer": "ipython3",
   "version": "3.10.9"
  }
 },
 "nbformat": 4,
 "nbformat_minor": 5
}
