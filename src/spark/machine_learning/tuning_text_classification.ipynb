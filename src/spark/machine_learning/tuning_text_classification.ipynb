{
 "cells": [
  {
   "cell_type": "code",
   "execution_count": 60,
   "id": "16e452a0-647b-4afd-a5c1-d1ded3576419",
   "metadata": {
    "tags": []
   },
   "outputs": [],
   "source": [
    "import numpy as np\n",
    "import matplotlib.pyplot as plt\n",
    "from sklearn.metrics import roc_curve\n",
    "from utilities import preprocessing\n",
    "from pyspark.sql import SparkSession\n",
    "from pyspark.sql.types import StringType, ArrayType\n",
    "from pyspark.ml.feature import HashingTF, IDF\n",
    "from pyspark.ml.feature import StringIndexer\n",
    "from pyspark.sql import functions\n",
    "from pyspark.sql.functions import col, udf\n",
    "from pyspark.ml.classification import LogisticRegression\n",
    "from pyspark.ml.evaluation import MulticlassClassificationEvaluator\n",
    "from pyspark.mllib.evaluation import MulticlassMetrics \n",
    "from pyspark.ml.tuning import ParamGridBuilder, CrossValidator"
   ]
  },
  {
   "cell_type": "code",
   "execution_count": 2,
   "id": "5b99b4f3-cab1-4a0e-9f87-538b310a357e",
   "metadata": {
    "tags": []
   },
   "outputs": [],
   "source": [
    "spark = SparkSession.builder \\\n",
    "           .appName('Tuning Text Classification Model') \\\n",
    "           .config(\"spark.jars\", \"mysql-connector-j-8.0.32.jar\")\\\n",
    "           .config(\"spark.driver.memory\", \"6g\") \\\n",
    "           .config(\"spark.executor.memory\", \"8g\") \\\n",
    "           .getOrCreate()"
   ]
  },
  {
   "cell_type": "code",
   "execution_count": 3,
   "id": "96ddae59-48a2-4ff6-9582-883b98588425",
   "metadata": {
    "tags": []
   },
   "outputs": [],
   "source": [
    "text_classification_data = spark.read \\\n",
    "                                .format(\"jdbc\") \\\n",
    "                                .option(\"driver\",\"com.mysql.cj.jdbc.Driver\") \\\n",
    "                                .option(\"url\", \"jdbc:mysql://web-database/Web\") \\\n",
    "                                .option(\"dbtable\", \"textClassification\") \\\n",
    "                                .option(\"user\", \"root\") \\\n",
    "                                .option(\"password\", \"123\") \\\n",
    "                                .load()"
   ]
  },
  {
   "cell_type": "code",
   "execution_count": 4,
   "id": "05aa984e-80c7-4542-a182-a1d349fc3352",
   "metadata": {
    "tags": []
   },
   "outputs": [
    {
     "name": "stdout",
     "output_type": "stream",
     "text": [
      "+-----+--------+--------------------+\n",
      "|tagId|category|        descriptions|\n",
      "+-----+--------+--------------------+\n",
      "|    1|  Sports| David Eckstein p...|\n",
      "|    2|  Sports|The Oakland Raide...|\n",
      "|    3|  Sports| Tennessee quarte...|\n",
      "|    4|  Sports| New Orleans Horn...|\n",
      "|    5|  Sports| Los Angeles inve...|\n",
      "|    6|  Sports|Wyatt Sexton will...|\n",
      "|    7|   World|\" The Nigerian re...|\n",
      "|    8|   World|Pop producer Phil...|\n",
      "|    9|Business|Unions representi...|\n",
      "|   10|   World|The Senate opened...|\n",
      "+-----+--------+--------------------+\n",
      "only showing top 10 rows\n",
      "\n"
     ]
    }
   ],
   "source": [
    "text_classification_data.show(10)"
   ]
  },
  {
   "cell_type": "code",
   "execution_count": 5,
   "id": "de0a1ee4-7296-4cad-928a-91f7bce96a7a",
   "metadata": {
    "tags": []
   },
   "outputs": [],
   "source": [
    "text_classification_data = text_classification_data.select('category', 'descriptions')\n",
    "text_classification_data = text_classification_data.dropna(subset = ('category'))"
   ]
  },
  {
   "cell_type": "code",
   "execution_count": 6,
   "id": "3b687721-201c-40ee-9b44-729183a7d07f",
   "metadata": {
    "tags": []
   },
   "outputs": [],
   "source": [
    "preprocessed_df = preprocessing(text_classification_data, 'descriptions')"
   ]
  },
  {
   "cell_type": "code",
   "execution_count": 7,
   "id": "e9de3644-f0fe-4a14-86a5-6e60f0beb759",
   "metadata": {
    "tags": []
   },
   "outputs": [
    {
     "name": "stdout",
     "output_type": "stream",
     "text": [
      "+--------+--------------------+--------------------+--------------------+\n",
      "|category|        descriptions|  descriptions_words|            filtered|\n",
      "+--------+--------------------+--------------------+--------------------+\n",
      "|  Sports|David Eckstein pr...|[david, eckstein,...|[david, eckstein,...|\n",
      "|  Sports|The Oakland Raide...|[the, oakland, ra...|[oakland, raiders...|\n",
      "|  Sports|Tennessee quarter...|[tennessee, quart...|[tennessee, quart...|\n",
      "|  Sports|New Orleans Horne...|[new, orleans, ho...|[new, orleans, ho...|\n",
      "|  Sports|Los Angeles inves...|[los, angeles, in...|[los, angeles, in...|\n",
      "+--------+--------------------+--------------------+--------------------+\n",
      "only showing top 5 rows\n",
      "\n"
     ]
    }
   ],
   "source": [
    "preprocessed_df.show(5)"
   ]
  },
  {
   "cell_type": "code",
   "execution_count": 8,
   "id": "64bbafe9-9745-4bb5-af77-23af0672da3b",
   "metadata": {
    "tags": []
   },
   "outputs": [],
   "source": [
    "hashing_tf = HashingTF(inputCol = \"filtered\", outputCol = \"raw_features\")\n",
    "featurized_data = hashing_tf.transform(preprocessed_df)"
   ]
  },
  {
   "cell_type": "code",
   "execution_count": 9,
   "id": "9f75a0c8-6f87-4758-a6d3-1f529725d8d2",
   "metadata": {
    "tags": []
   },
   "outputs": [
    {
     "name": "stdout",
     "output_type": "stream",
     "text": [
      "+--------+--------------------+--------------------+--------------------+--------------------+\n",
      "|category|        descriptions|  descriptions_words|            filtered|        raw_features|\n",
      "+--------+--------------------+--------------------+--------------------+--------------------+\n",
      "|  Sports|David Eckstein pr...|[david, eckstein,...|[david, eckstein,...|(262144,[9708,187...|\n",
      "|  Sports|The Oakland Raide...|[the, oakland, ra...|[oakland, raiders...|(262144,[13503,51...|\n",
      "|  Sports|Tennessee quarter...|[tennessee, quart...|[tennessee, quart...|(262144,[14376,28...|\n",
      "|  Sports|New Orleans Horne...|[new, orleans, ho...|[new, orleans, ho...|(262144,[24524,40...|\n",
      "|  Sports|Los Angeles inves...|[los, angeles, in...|[los, angeles, in...|(262144,[336,1303...|\n",
      "+--------+--------------------+--------------------+--------------------+--------------------+\n",
      "only showing top 5 rows\n",
      "\n"
     ]
    }
   ],
   "source": [
    "featurized_data.show(5)"
   ]
  },
  {
   "cell_type": "code",
   "execution_count": 10,
   "id": "5babbf89-78b1-40a4-81f4-81d3dac975d8",
   "metadata": {
    "tags": []
   },
   "outputs": [],
   "source": [
    "labelEncoder = StringIndexer(inputCol = 'category',outputCol = 'label').fit(featurized_data)"
   ]
  },
  {
   "cell_type": "code",
   "execution_count": 13,
   "id": "31191a1f-a42a-4dc9-b484-daa2c636ddb1",
   "metadata": {
    "tags": []
   },
   "outputs": [],
   "source": [
    "df = labelEncoder.transform(featurized_data)"
   ]
  },
  {
   "cell_type": "code",
   "execution_count": 14,
   "id": "0cbc7ec6-0609-4e75-90eb-9e0e3e37b42a",
   "metadata": {
    "tags": []
   },
   "outputs": [
    {
     "name": "stdout",
     "output_type": "stream",
     "text": [
      "+--------+--------------------+--------------------+--------------------+--------------------+-----+\n",
      "|category|        descriptions|  descriptions_words|            filtered|        raw_features|label|\n",
      "+--------+--------------------+--------------------+--------------------+--------------------+-----+\n",
      "|  Sports|David Eckstein pr...|[david, eckstein,...|[david, eckstein,...|(262144,[9708,187...|  2.0|\n",
      "|  Sports|The Oakland Raide...|[the, oakland, ra...|[oakland, raiders...|(262144,[13503,51...|  2.0|\n",
      "|  Sports|Tennessee quarter...|[tennessee, quart...|[tennessee, quart...|(262144,[14376,28...|  2.0|\n",
      "|  Sports|New Orleans Horne...|[new, orleans, ho...|[new, orleans, ho...|(262144,[24524,40...|  2.0|\n",
      "|  Sports|Los Angeles inves...|[los, angeles, in...|[los, angeles, in...|(262144,[336,1303...|  2.0|\n",
      "+--------+--------------------+--------------------+--------------------+--------------------+-----+\n",
      "only showing top 5 rows\n",
      "\n"
     ]
    }
   ],
   "source": [
    "df.show(5)"
   ]
  },
  {
   "cell_type": "code",
   "execution_count": 11,
   "id": "fb68baef-8ca2-43c6-adcc-5359b7a0fb90",
   "metadata": {
    "tags": []
   },
   "outputs": [
    {
     "name": "stdout",
     "output_type": "stream",
     "text": [
      "+--------+-----+\n",
      "|category|label|\n",
      "+--------+-----+\n",
      "|Sci/Tech|  1.0|\n",
      "|  Sports|  2.0|\n",
      "|   World|  3.0|\n",
      "|Business|  0.0|\n",
      "+--------+-----+\n",
      "\n"
     ]
    }
   ],
   "source": [
    "labelEncoder.transform(featurized_data).select(\"category\", 'label').distinct().show()"
   ]
  },
  {
   "cell_type": "code",
   "execution_count": 12,
   "id": "795727d2-4776-4abb-83f4-348127ca86c6",
   "metadata": {
    "tags": []
   },
   "outputs": [],
   "source": [
    "label_dict = {'Business': 0.0,\n",
    "             'Sci/Tech': 1.0,\n",
    "             'Sports': 2.0,\n",
    "             'World': 3.0}"
   ]
  },
  {
   "cell_type": "code",
   "execution_count": 49,
   "id": "fb1517ff-b10f-41df-b1a2-f75619df9682",
   "metadata": {
    "tags": []
   },
   "outputs": [
    {
     "name": "stdout",
     "output_type": "stream",
     "text": [
      "Number of Features: 100. Best Model Accuracy: 0.887193803326387\n",
      "Number of Features: 500. Best Model Accuracy: 0.8495262061101718\n",
      "Number of Features: 1000. Best Model Accuracy: 0.8162623363346833\n",
      "Number of Features: 2500. Best Model Accuracy: 0.6919356741241693\n",
      "Number of Features: 5000. Best Model Accuracy: 0.48157905083946057\n",
      "Number of Features: 7500. Best Model Accuracy: 0.37860260291746944\n",
      "Number of Features: 10000. Best Model Accuracy: 0.32048912829788073\n",
      "Number of Features: 15000. Best Model Accuracy: 0.3086541108009279\n",
      "Number of Features: 20000. Best Model Accuracy: 0.3086541108009279\n"
     ]
    }
   ],
   "source": [
    "logistic_regression = LogisticRegression(featuresCol = \"features\", labelCol = \"label\")\n",
    "\n",
    "param_grid = ParamGridBuilder() \\\n",
    "    .addGrid(logistic_regression.regParam, [0.01, 0.1, 1.0]) \\\n",
    "    .addGrid(logistic_regression.elasticNetParam, [0.0, 0.5, 1.0]) \\\n",
    "    .build()\n",
    "\n",
    "evaluator = MulticlassClassificationEvaluator(metricName = \"accuracy\")\n",
    "\n",
    "feature_numbers = [100, 500, 1000, 2500, 5000, 7500, 10000, 15000, 20000]\n",
    "best_model = None\n",
    "best_accuracy = 0.0\n",
    "accuracy_list = []\n",
    "\n",
    "for num_features in feature_numbers:\n",
    "    feature_selector = IDF(inputCol = \"raw_features\", outputCol = \"features\",\n",
    "                           minDocFreq = num_features)\n",
    "    feature_selector_model = feature_selector.fit(df)\n",
    "    selected_data = feature_selector_model.transform(df)\n",
    "\n",
    "    (train_data, test_data) = selected_data.randomSplit([0.8, 0.2], seed = 2)\n",
    "\n",
    "    cross_validator = CrossValidator(estimator = logistic_regression,\n",
    "                                     estimatorParamMaps = param_grid,\n",
    "                                     evaluator = evaluator,\n",
    "                                     numFolds = 5)\n",
    "\n",
    "    cv_model = cross_validator.fit(train_data)\n",
    "    predictions = cv_model.transform(test_data)\n",
    "    accuracy = evaluator.evaluate(predictions)\n",
    "    accuracy_list.append(accuracy)\n",
    "\n",
    "    print(f\"Number of Features: {num_features}. Best Model Accuracy: {accuracy}\")\n",
    "\n",
    "    if accuracy > best_accuracy:\n",
    "        best_model = cv_model.bestModel\n",
    "        best_accuracy = accuracy"
   ]
  },
  {
   "cell_type": "code",
   "execution_count": 51,
   "id": "ad3c017a-ad59-4c43-833e-0a80b4b59052",
   "metadata": {
    "tags": []
   },
   "outputs": [
    {
     "name": "stdout",
     "output_type": "stream",
     "text": [
      "regParam:  0.1\n",
      "elasticNetParam:  0.0\n"
     ]
    }
   ],
   "source": [
    "# Access the regParam and elasticNetParam of the best model\n",
    "reg_param = best_model.getOrDefault(\"regParam\")\n",
    "elastic_net_param = best_model.getOrDefault(\"elasticNetParam\")\n",
    "\n",
    "# Print the regParam and elasticNetParam\n",
    "print(\"regParam: \", reg_param)\n",
    "print(\"elasticNetParam: \", elastic_net_param)"
   ]
  },
  {
   "cell_type": "code",
   "execution_count": 27,
   "id": "ade52e53-a50c-4050-b78a-a2aae0a6225f",
   "metadata": {
    "tags": []
   },
   "outputs": [],
   "source": [
    "feature_selector = IDF(inputCol = \"raw_features\", outputCol = \"features\", minDocFreq = 100)\n",
    "feature_selector_model = feature_selector.fit(df)\n",
    "selected_data = feature_selector_model.transform(df)\n",
    "trainDF, testDF = selected_data.randomSplit((0.8, 0.2), seed = 3)\n",
    "\n",
    "predictions = best_model.transform(testDF)"
   ]
  },
  {
   "cell_type": "code",
   "execution_count": 28,
   "id": "7bba4ccd-fcde-40ba-a927-2c5573698903",
   "metadata": {
    "tags": []
   },
   "outputs": [
    {
     "name": "stdout",
     "output_type": "stream",
     "text": [
      "Accuracy: 0.8981204781377792\n"
     ]
    },
    {
     "name": "stderr",
     "output_type": "stream",
     "text": [
      "/usr/local/spark/python/pyspark/sql/context.py:157: FutureWarning: Deprecated in 3.0.0. Use SparkSession.builder.getOrCreate() instead.\n",
      "  warnings.warn(\n"
     ]
    },
    {
     "name": "stdout",
     "output_type": "stream",
     "text": [
      "F1 Score: 0.897888794502781\n",
      "Precision: 0.8980312923020949\n",
      "Recall: 0.8981204781377792\n"
     ]
    }
   ],
   "source": [
    "evaluator = MulticlassClassificationEvaluator(labelCol = \"label\", predictionCol = \"prediction\", metricName = \"accuracy\")\n",
    "accuracy = evaluator.evaluate(predictions)\n",
    "print(\"Accuracy:\", accuracy)\n",
    "\n",
    "predictionAndLabels = predictions.select(\"prediction\", \"label\").rdd\n",
    "metrics = MulticlassMetrics(predictionAndLabels)\n",
    "f1_score = metrics.weightedFMeasure(beta = 1.0)\n",
    "print(\"F1 Score:\", f1_score)\n",
    "\n",
    "precision = metrics.weightedPrecision\n",
    "print(\"Precision:\", precision)\n",
    "\n",
    "recall = metrics.weightedRecall\n",
    "print(\"Recall:\", recall)"
   ]
  },
  {
   "cell_type": "code",
   "execution_count": 29,
   "id": "f8717115-fe45-45d5-af65-cd410dd2c665",
   "metadata": {
    "tags": []
   },
   "outputs": [
    {
     "data": {
      "image/png": "[encoded data removed]",
      "text/plain": [
       "<Figure size 640x480 with 2 Axes>"
      ]
     },
     "metadata": {},
     "output_type": "display_data"
    }
   ],
   "source": [
    "confusion_matrix = metrics.confusionMatrix()\n",
    "confusion_matrix_np = np.array(confusion_matrix.toArray())\n",
    "labels = [str(i) for i in range(confusion_matrix.numRows)]\n",
    "\n",
    "plt.imshow(confusion_matrix_np, cmap = 'Blues')\n",
    "plt.title(\"Confusion Matrix\")\n",
    "plt.colorbar()\n",
    "\n",
    "for i in range(len(labels)):\n",
    "    for j in range(len(labels)):\n",
    "        plt.text(j, i, confusion_matrix_np[i, j], ha = 'center', va = 'center', color = 'orange')\n",
    "\n",
    "plt.xticks(np.arange(len(labels)), labels)\n",
    "plt.yticks(np.arange(len(labels)), labels)\n",
    "plt.xlabel(\"Predicted\")\n",
    "plt.ylabel(\"Actual\")\n",
    "plt.show()"
   ]
  },
  {
   "cell_type": "code",
   "execution_count": 42,
   "id": "95dfe637-ff22-4be4-bb5b-3a0a837ceb35",
   "metadata": {
    "tags": []
   },
   "outputs": [],
   "source": [
    "from pyspark.sql.types import *\n",
    "example1 = [('1', \"The Ambassador of Ukraine to Germany showed the Leopard 1A5 tanks promised to Ukraine.\"),\n",
    "            ('2', \"Interacted with top CEOs during the business roundtable in Sydney. Elaborated on the business opportunities in India and the reform trajectory of our Government. Invited Australian businesses to invest in India.\"),\n",
    "            ('3', \"People rightly point out that much of San Francisco is clean, but it’s also the case that half of all sidewalks in commercial areas have feces on them, according to a major city-commissioned survey. City-wide, 30% of sidewalks had feces on them.\"), \n",
    "            ('4', \"Buying now costs 45% more than renting on a monthly basis And that's BEFORE putting down 20% to buy the house How can the average American afford to buy?\")]\n",
    "schema = StructType([StructField(\"post_id\", StringType(), True)\\\n",
    "                    ,StructField(\"descriptions\", StringType(), True)])\n",
    "example1 = spark.createDataFrame(data = example1, schema = schema)\n",
    "example1 = preprocessing(example1.select('descriptions'), 'descriptions')\n",
    "featurized_example = hashing_tf.transform(example1)\n",
    "rescaled_example = feature_selector_model.transform(featurized_example) "
   ]
  },
  {
   "cell_type": "code",
   "execution_count": 64,
   "id": "8f31b4cb-4273-4e33-9066-6f75f1884cdb",
   "metadata": {
    "tags": []
   },
   "outputs": [
    {
     "name": "stdout",
     "output_type": "stream",
     "text": [
      "+--------------------+----------+\n",
      "|        descriptions|prediction|\n",
      "+--------------------+----------+\n",
      "|The Ambassador of...|       3.0|\n",
      "|Interacted with t...|       0.0|\n",
      "|People rightly po...|       1.0|\n",
      "|Buying now costs ...|       0.0|\n",
      "+--------------------+----------+\n",
      "\n"
     ]
    }
   ],
   "source": [
    "pred_example1 = best_model.transform(rescaled_example)\n",
    "pred_example1.select('descriptions', 'prediction').show()"
   ]
  },
  {
   "cell_type": "code",
   "execution_count": null,
   "id": "72c663c2-af73-4d07-b3ff-83159b2f355b",
   "metadata": {},
   "outputs": [],
   "source": []
  }
 ],
 "metadata": {
  "kernelspec": {
   "display_name": "Python 3 (ipykernel)",
   "language": "python",
   "name": "python3"
  },
  "language_info": {
   "codemirror_mode": {
    "name": "ipython",
    "version": 3
   },
   "file_extension": ".py",
   "mimetype": "text/x-python",
   "name": "python",
   "nbconvert_exporter": "python",
   "pygments_lexer": "ipython3",
   "version": "3.10.9"
  }
 },
 "nbformat": 4,
 "nbformat_minor": 5
}
