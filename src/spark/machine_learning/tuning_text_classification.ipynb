{
 "cells": [
  {
   "cell_type": "code",
   "execution_count": 92,
   "id": "16e452a0-647b-4afd-a5c1-d1ded3576419",
   "metadata": {
    "tags": []
   },
   "outputs": [],
   "source": [
    "import numpy as np\n",
    "import matplotlib.pyplot as plt\n",
    "from utilities import preprocessing\n",
    "from pyspark.sql import SparkSession\n",
    "from pyspark.sql.types import StringType, ArrayType\n",
    "from pyspark.ml.feature import HashingTF, IDF\n",
    "from pyspark.ml.feature import StringIndexer\n",
    "from pyspark.sql.functions import col, udf\n",
    "from pyspark.ml.classification import LogisticRegression\n",
    "from pyspark.ml.evaluation import MulticlassClassificationEvaluator\n",
    "from pyspark.mllib.evaluation import MulticlassMetrics "
   ]
  },
  {
   "cell_type": "code",
   "execution_count": 93,
   "id": "5b99b4f3-cab1-4a0e-9f87-538b310a357e",
   "metadata": {
    "tags": []
   },
   "outputs": [],
   "source": [
    "spark = SparkSession.builder \\\n",
    "           .appName('Tuning Text Classification Model') \\\n",
    "           .config(\"spark.jars\", \"mysql-connector-j-8.0.32.jar\")\\\n",
    "           .config(\"spark.driver.memory\", \"6g\") \\\n",
    "           .config(\"spark.executor.memory\", \"8g\") \\\n",
    "           .getOrCreate()"
   ]
  },
  {
   "cell_type": "code",
   "execution_count": 94,
   "id": "96ddae59-48a2-4ff6-9582-883b98588425",
   "metadata": {
    "tags": []
   },
   "outputs": [],
   "source": [
    "text_classification_data = spark.read \\\n",
    "                                .format(\"jdbc\") \\\n",
    "                                .option(\"driver\",\"com.mysql.cj.jdbc.Driver\") \\\n",
    "                                .option(\"url\", \"jdbc:mysql://web-database/Web\") \\\n",
    "                                .option(\"dbtable\", \"textClassification\") \\\n",
    "                                .option(\"user\", \"root\") \\\n",
    "                                .option(\"password\", \"123\") \\\n",
    "                                .load()"
   ]
  },
  {
   "cell_type": "code",
   "execution_count": 95,
   "id": "05aa984e-80c7-4542-a182-a1d349fc3352",
   "metadata": {
    "tags": []
   },
   "outputs": [
    {
     "name": "stdout",
     "output_type": "stream",
     "text": [
      "+-----+--------+--------------------+\n",
      "|tagId|category|        descriptions|\n",
      "+-----+--------+--------------------+\n",
      "|    1|  Sports|French maestros R...|\n",
      "|    2|  Sports|SOUTHLAKE, Texas ...|\n",
      "|    3|Sci/Tech|A Soyuz spacecraf...|\n",
      "|    4|Sci/Tech|America #39;s ear...|\n",
      "|    5|Sci/Tech|Dell Inc. said ye...|\n",
      "|    6|Business|A financial indus...|\n",
      "|    7|Business|Speculation runs ...|\n",
      "|    8|Business|Apple Computer sa...|\n",
      "|    9|  Sports|Titleholder Ernie...|\n",
      "|   10|  Sports|Sergio Garcia wal...|\n",
      "+-----+--------+--------------------+\n",
      "only showing top 10 rows\n",
      "\n"
     ]
    }
   ],
   "source": [
    "text_classification_data.show(10)"
   ]
  },
  {
   "cell_type": "code",
   "execution_count": 96,
   "id": "de0a1ee4-7296-4cad-928a-91f7bce96a7a",
   "metadata": {
    "tags": []
   },
   "outputs": [
    {
     "name": "stderr",
     "output_type": "stream",
     "text": [
      "[nltk_data] Downloading package wordnet to /home/jovyan/nltk_data...\n",
      "[nltk_data]   Package wordnet is already up-to-date!\n"
     ]
    },
    {
     "data": {
      "text/plain": [
       "True"
      ]
     },
     "execution_count": 96,
     "metadata": {},
     "output_type": "execute_result"
    }
   ],
   "source": [
    "text_classification_data = text_classification_data.select('category', 'descriptions')\n",
    "text_classification_data = text_classification_data.dropna(subset = ('category'))"
   ]
  },
  {
   "cell_type": "code",
   "execution_count": 98,
   "id": "3b687721-201c-40ee-9b44-729183a7d07f",
   "metadata": {
    "tags": []
   },
   "outputs": [],
   "source": [
    "preprocessed_df = preprocessing(text_classification_data, 'descriptions')"
   ]
  },
  {
   "cell_type": "code",
   "execution_count": 99,
   "id": "e9de3644-f0fe-4a14-86a5-6e60f0beb759",
   "metadata": {
    "tags": []
   },
   "outputs": [
    {
     "name": "stdout",
     "output_type": "stream",
     "text": [
      "+--------+--------------------+--------------------+--------------------+\n",
      "|category|        descriptions|  descriptions_words|            filtered|\n",
      "+--------+--------------------+--------------------+--------------------+\n",
      "|  Sports|French maestros R...|[french, maestros...|[french, maestros...|\n",
      "|  Sports|SOUTHLAKE, Texas ...|[southlake, texas...|[southlake, texas...|\n",
      "|Sci/Tech|A Soyuz spacecraf...|[a, soyuz, spacec...|[soyuz, spacecraf...|\n",
      "|Sci/Tech|America #;s earli...|[america, s, earl...|[america, earlies...|\n",
      "|Sci/Tech|Dell Inc. said ye...|[dell, inc, say, ...|[dell, inc, say, ...|\n",
      "+--------+--------------------+--------------------+--------------------+\n",
      "only showing top 5 rows\n",
      "\n"
     ]
    }
   ],
   "source": [
    "preprocessed_df.show(5)"
   ]
  },
  {
   "cell_type": "code",
   "execution_count": 102,
   "id": "64bbafe9-9745-4bb5-af77-23af0672da3b",
   "metadata": {
    "tags": []
   },
   "outputs": [],
   "source": [
    "hashing_tf = HashingTF(inputCol = \"filtered\", outputCol = \"raw_features\")\n",
    "featurized_data = hashing_tf.transform(preprocessed_df)"
   ]
  },
  {
   "cell_type": "code",
   "execution_count": 103,
   "id": "9f75a0c8-6f87-4758-a6d3-1f529725d8d2",
   "metadata": {
    "tags": []
   },
   "outputs": [
    {
     "name": "stdout",
     "output_type": "stream",
     "text": [
      "+--------+--------------------+--------------------+--------------------+--------------------+\n",
      "|category|        descriptions|  descriptions_words|            filtered|        raw_features|\n",
      "+--------+--------------------+--------------------+--------------------+--------------------+\n",
      "|  Sports|French maestros R...|[french, maestros...|[french, maestros...|(262144,[14870,25...|\n",
      "|  Sports|SOUTHLAKE, Texas ...|[southlake, texas...|[southlake, texas...|(262144,[16306,17...|\n",
      "|Sci/Tech|A Soyuz spacecraf...|[a, soyuz, spacec...|[soyuz, spacecraf...|(262144,[10326,12...|\n",
      "|Sci/Tech|America #;s earli...|[america, s, earl...|[america, earlies...|(262144,[1303,411...|\n",
      "|Sci/Tech|Dell Inc. said ye...|[dell, inc, say, ...|[dell, inc, say, ...|(262144,[16713,81...|\n",
      "+--------+--------------------+--------------------+--------------------+--------------------+\n",
      "only showing top 5 rows\n",
      "\n"
     ]
    }
   ],
   "source": [
    "featurized_data.show(5)"
   ]
  },
  {
   "cell_type": "code",
   "execution_count": 104,
   "id": "d81802df-8b06-4534-b474-073204ea4170",
   "metadata": {
    "tags": []
   },
   "outputs": [],
   "source": [
    "idf = IDF(inputCol = \"raw_features\", outputCol = \"features\")\n",
    "idf_vectorizer = idf.fit(featurized_data)\n",
    "rescaled_data = idf_vectorizer.transform(featurized_data) "
   ]
  },
  {
   "cell_type": "code",
   "execution_count": 105,
   "id": "9c1a6321-7a81-4fa9-a9a2-3e85ef509e02",
   "metadata": {
    "tags": []
   },
   "outputs": [
    {
     "name": "stdout",
     "output_type": "stream",
     "text": [
      "+--------+--------------------+--------------------+--------------------+--------------------+--------------------+\n",
      "|category|        descriptions|  descriptions_words|            filtered|        raw_features|            features|\n",
      "+--------+--------------------+--------------------+--------------------+--------------------+--------------------+\n",
      "|  Sports|French maestros R...|[french, maestros...|[french, maestros...|(262144,[14870,25...|(262144,[14870,25...|\n",
      "|  Sports|SOUTHLAKE, Texas ...|[southlake, texas...|[southlake, texas...|(262144,[16306,17...|(262144,[16306,17...|\n",
      "|Sci/Tech|A Soyuz spacecraf...|[a, soyuz, spacec...|[soyuz, spacecraf...|(262144,[10326,12...|(262144,[10326,12...|\n",
      "|Sci/Tech|America #;s earli...|[america, s, earl...|[america, earlies...|(262144,[1303,411...|(262144,[1303,411...|\n",
      "|Sci/Tech|Dell Inc. said ye...|[dell, inc, say, ...|[dell, inc, say, ...|(262144,[16713,81...|(262144,[16713,81...|\n",
      "+--------+--------------------+--------------------+--------------------+--------------------+--------------------+\n",
      "only showing top 5 rows\n",
      "\n"
     ]
    }
   ],
   "source": [
    "rescaled_data.show(5)"
   ]
  },
  {
   "cell_type": "code",
   "execution_count": 106,
   "id": "5babbf89-78b1-40a4-81f4-81d3dac975d8",
   "metadata": {
    "tags": []
   },
   "outputs": [],
   "source": [
    "labelEncoder = StringIndexer(inputCol = 'category',outputCol = 'label').fit(rescaled_data)"
   ]
  },
  {
   "cell_type": "code",
   "execution_count": 107,
   "id": "fb68baef-8ca2-43c6-adcc-5359b7a0fb90",
   "metadata": {
    "tags": []
   },
   "outputs": [
    {
     "name": "stdout",
     "output_type": "stream",
     "text": [
      "+--------+-----+\n",
      "|category|label|\n",
      "+--------+-----+\n",
      "|Sci/Tech|  1.0|\n",
      "|  Sports|  2.0|\n",
      "|   World|  3.0|\n",
      "|Business|  0.0|\n",
      "+--------+-----+\n",
      "\n"
     ]
    }
   ],
   "source": [
    "labelEncoder.transform(rescaled_data).select(\"category\", 'label').distinct().show()"
   ]
  },
  {
   "cell_type": "code",
   "execution_count": 108,
   "id": "795727d2-4776-4abb-83f4-348127ca86c6",
   "metadata": {
    "tags": []
   },
   "outputs": [],
   "source": [
    "label_dict = {'Business': 0.0,\n",
    "             'Sci/Tech': 1.0,\n",
    "             'Sports': 2.0,\n",
    "             'World': 3.0}"
   ]
  },
  {
   "cell_type": "code",
   "execution_count": 109,
   "id": "31191a1f-a42a-4dc9-b484-daa2c636ddb1",
   "metadata": {
    "tags": []
   },
   "outputs": [],
   "source": [
    "df = labelEncoder.transform(rescaled_data)"
   ]
  },
  {
   "cell_type": "code",
   "execution_count": 110,
   "id": "0cbc7ec6-0609-4e75-90eb-9e0e3e37b42a",
   "metadata": {
    "tags": []
   },
   "outputs": [
    {
     "name": "stdout",
     "output_type": "stream",
     "text": [
      "+--------+--------------------+--------------------+--------------------+--------------------+--------------------+-----+\n",
      "|category|        descriptions|  descriptions_words|            filtered|        raw_features|            features|label|\n",
      "+--------+--------------------+--------------------+--------------------+--------------------+--------------------+-----+\n",
      "|  Sports|French maestros R...|[french, maestros...|[french, maestros...|(262144,[14870,25...|(262144,[14870,25...|  2.0|\n",
      "|  Sports|SOUTHLAKE, Texas ...|[southlake, texas...|[southlake, texas...|(262144,[16306,17...|(262144,[16306,17...|  2.0|\n",
      "|Sci/Tech|A Soyuz spacecraf...|[a, soyuz, spacec...|[soyuz, spacecraf...|(262144,[10326,12...|(262144,[10326,12...|  1.0|\n",
      "|Sci/Tech|America #;s earli...|[america, s, earl...|[america, earlies...|(262144,[1303,411...|(262144,[1303,411...|  1.0|\n",
      "|Sci/Tech|Dell Inc. said ye...|[dell, inc, say, ...|[dell, inc, say, ...|(262144,[16713,81...|(262144,[16713,81...|  1.0|\n",
      "+--------+--------------------+--------------------+--------------------+--------------------+--------------------+-----+\n",
      "only showing top 5 rows\n",
      "\n"
     ]
    }
   ],
   "source": [
    "df.show(5)"
   ]
  },
  {
   "cell_type": "code",
   "execution_count": 111,
   "id": "a5d93a34-1e79-46b0-9d66-47f91ae602f2",
   "metadata": {
    "tags": []
   },
   "outputs": [],
   "source": [
    "trainDF, testDF = df.randomSplit((0.7,0.3), seed = 2)"
   ]
  },
  {
   "cell_type": "code",
   "execution_count": 112,
   "id": "854816a9-9cfe-499f-880f-ea66e2f7c8d3",
   "metadata": {
    "tags": []
   },
   "outputs": [],
   "source": [
    "lr = LogisticRegression(featuresCol = 'features',\n",
    "                        labelCol = 'label',\n",
    "                        family = \"multinomial\",\n",
    "                        regParam = 0.3,\n",
    "                        elasticNetParam = 0,\n",
    "                        maxIter = 40)\n",
    "lrModel = lr.fit(trainDF)\n",
    "predictions = lrModel.transform(testDF)"
   ]
  },
  {
   "cell_type": "code",
   "execution_count": 113,
   "id": "e55a2cc7-0799-451a-9bbc-66a79ca54673",
   "metadata": {
    "tags": []
   },
   "outputs": [
    {
     "name": "stdout",
     "output_type": "stream",
     "text": [
      "+--------+--------------------+--------------------+--------------------+--------------------+--------------------+-----+--------------------+--------------------+----------+\n",
      "|category|        descriptions|  descriptions_words|            filtered|        raw_features|            features|label|       rawPrediction|         probability|prediction|\n",
      "+--------+--------------------+--------------------+--------------------+--------------------+--------------------+-----+--------------------+--------------------+----------+\n",
      "|Business|\" A Canadian cour...|[a, canadian, cou...|[canadian, court,...|(262144,[19018,25...|(262144,[19018,25...|  0.0|[1.98763154320979...|[0.82477378482439...|       0.0|\n",
      "|Business|\" A UnitedStates ...|[a, unitedstates,...|[unitedstates, ba...|(262144,[9633,978...|(262144,[9633,978...|  0.0|[3.77295452996862...|[0.97847853704762...|       0.0|\n",
      "|Business|\" A dispute betwe...|[a, dispute, betw...|[dispute, northwe...|(262144,[5765,699...|(262144,[5765,699...|  0.0|[5.78713764313459...|[0.99835968819256...|       0.0|\n",
      "|Business|\" A federal bankr...|[a, federal, bank...|[federal, bankrup...|(262144,[6993,148...|(262144,[6993,148...|  0.0|[3.34271445570286...|[0.96616957529901...|       0.0|\n",
      "|Business|\" A federal judge...|[a, federal, judg...|[federal, judge, ...|(262144,[5381,190...|(262144,[5381,190...|  0.0|[4.78847960262745...|[0.99196334338897...|       0.0|\n",
      "+--------+--------------------+--------------------+--------------------+--------------------+--------------------+-----+--------------------+--------------------+----------+\n",
      "only showing top 5 rows\n",
      "\n"
     ]
    }
   ],
   "source": [
    "predictions.show(5)"
   ]
  },
  {
   "cell_type": "code",
   "execution_count": 82,
   "id": "7bba4ccd-fcde-40ba-a927-2c5573698903",
   "metadata": {
    "tags": []
   },
   "outputs": [
    {
     "name": "stdout",
     "output_type": "stream",
     "text": [
      "Accuracy: 0.8847997485396967\n"
     ]
    },
    {
     "name": "stderr",
     "output_type": "stream",
     "text": [
      "/usr/local/spark/python/pyspark/sql/context.py:157: FutureWarning: Deprecated in 3.0.0. Use SparkSession.builder.getOrCreate() instead.\n",
      "  warnings.warn(\n"
     ]
    },
    {
     "name": "stdout",
     "output_type": "stream",
     "text": [
      "F1 Score: 0.884531452395511\n",
      "Precision: 0.8845719377389786\n",
      "Recall: 0.8847997485396967\n"
     ]
    }
   ],
   "source": [
    "evaluator = MulticlassClassificationEvaluator(labelCol = \"label\", predictionCol = \"prediction\", metricName = \"accuracy\")\n",
    "accuracy = evaluator.evaluate(predictions)\n",
    "print(\"Accuracy:\", accuracy)\n",
    "\n",
    "predictionAndLabels = predictions.select(\"prediction\", \"label\").rdd\n",
    "metrics = MulticlassMetrics(predictionAndLabels)\n",
    "f1_score = metrics.weightedFMeasure(beta = 1.0)\n",
    "print(\"F1 Score:\", f1_score)\n",
    "\n",
    "precision = metrics.weightedPrecision\n",
    "print(\"Precision:\", precision)\n",
    "\n",
    "recall = metrics.weightedRecall\n",
    "print(\"Recall:\", recall)"
   ]
  },
  {
   "cell_type": "code",
   "execution_count": 83,
   "id": "f8717115-fe45-45d5-af65-cd410dd2c665",
   "metadata": {
    "tags": []
   },
   "outputs": [
    {
     "data": {
      "image/png": "[encoded data removed]",
      "text/plain": [
       "<Figure size 640x480 with 2 Axes>"
      ]
     },
     "metadata": {},
     "output_type": "display_data"
    }
   ],
   "source": [
    "confusion_matrix = metrics.confusionMatrix()\n",
    "confusion_matrix_np = np.array(confusion_matrix.toArray())\n",
    "labels = [str(i) for i in range(confusion_matrix.numRows)]\n",
    "\n",
    "plt.imshow(confusion_matrix_np, cmap = 'Blues')\n",
    "plt.title(\"Confusion Matrix\")\n",
    "plt.colorbar()\n",
    "\n",
    "for i in range(len(labels)):\n",
    "    for j in range(len(labels)):\n",
    "        plt.text(j, i, confusion_matrix_np[i, j], ha = 'center', va = 'center', color = 'orange')\n",
    "\n",
    "plt.xticks(np.arange(len(labels)), labels)\n",
    "plt.yticks(np.arange(len(labels)), labels)\n",
    "plt.xlabel(\"Predicted\")\n",
    "plt.ylabel(\"Actual\")\n",
    "plt.show()"
   ]
  },
  {
   "cell_type": "code",
   "execution_count": 118,
   "id": "95dfe637-ff22-4be4-bb5b-3a0a837ceb35",
   "metadata": {
    "tags": []
   },
   "outputs": [],
   "source": [
    "from pyspark.sql.types import *\n",
    "example1 = [(1, \"President Xi Jinping says he doesn't want a hodgepodge 'street stall economy' in Beijing, even as China's youth unemployment rates hit a record high\"),\n",
    "            (2, \"Tech titans who are trying to live forever might soon have new ammunition: Next-gen anti-aging pills\"),\n",
    "            (3, \"Bank of England governor says the UK is facing a wage-price spiral\"), \n",
    "            (4, \"Congratulation Erling Haaland who score 2 goals last match with Manchester United\")]\n",
    "schema = StructType([StructField(\"post_id\", StringType(), True)\\\n",
    "                    ,StructField(\"descriptions\", StringType(), True)])\n",
    "example1 = spark.createDataFrame(data = example1, schema = schema)\n",
    "example1 = preprocessing(example1.select('descriptions'), 'descriptions')\n",
    "featurized_example = hashing_tf.transform(example1)\n",
    "rescaled_example = idf_vectorizer.transform(featurized_example) "
   ]
  },
  {
   "cell_type": "code",
   "execution_count": 119,
   "id": "bcfcd92e-7c0d-46b1-9427-7720b04c5abd",
   "metadata": {
    "tags": []
   },
   "outputs": [
    {
     "name": "stdout",
     "output_type": "stream",
     "text": [
      "+----------------------------------------------------------------------------------------------------------------------------------------------------+-------------------------------------------------------------------------------------------------------------------------------------------------------------------------+-------------------------------------------------------------------------------------------------------------------------------------------------+--------------------------------------------------------------------------------------------------------------------------------------------------------------------------------------------------------------------------+-------------------------------------------------------------------------------------------------------------------------------------------------------------------------------------------------------------------------------------------------------------------------------------------------------------------------------------------------------------------------------------------------------------------------------------------------------------------------------------------------------+\n",
      "|descriptions                                                                                                                                        |descriptions_words                                                                                                                                                       |filtered                                                                                                                                         |raw_features                                                                                                                                                                                                              |features                                                                                                                                                                                                                                                                                                                                                                                                                                                                                               |\n",
      "+----------------------------------------------------------------------------------------------------------------------------------------------------+-------------------------------------------------------------------------------------------------------------------------------------------------------------------------+-------------------------------------------------------------------------------------------------------------------------------------------------+--------------------------------------------------------------------------------------------------------------------------------------------------------------------------------------------------------------------------+-------------------------------------------------------------------------------------------------------------------------------------------------------------------------------------------------------------------------------------------------------------------------------------------------------------------------------------------------------------------------------------------------------------------------------------------------------------------------------------------------------+\n",
      "|President Xi Jinping says he doesn't want a hodgepodge 'street stall economy' in Beijing, even as China's youth unemployment rates hit a record high|[president, xi, jinping, say, he, doesn, t, want, a, hodgepodge, street, stall, economy, in, beijing, even, as, china, s, youth, unemployment, rat, hit, a, record, high]|[president, xi, jinping, say, doesn, want, hodgepodge, street, stall, economy, beijing, even, china, youth, unemployment, rat, hit, record, high]|(262144,[37131,66883,70292,114972,125689,136020,144800,153178,157613,171222,174888,174966,186213,190256,192148,199753,225731,230810,240888],[1.0,1.0,1.0,1.0,1.0,1.0,1.0,1.0,1.0,1.0,1.0,1.0,1.0,1.0,1.0,1.0,1.0,1.0,1.0])|(262144,[37131,66883,70292,114972,125689,136020,144800,153178,157613,171222,174888,174966,186213,190256,192148,199753,225731,230810,240888],[3.6102441637547096,9.048613285750504,4.109832095422231,3.97636039894434,4.580408954835569,3.6860699469031952,6.700417681504405,3.144160115632151,11.756663486852712,1.602222682363108,5.745396312448552,4.160773569134175,7.864843188742086,4.4087196637040265,11.756663486852712,4.769173239851723,5.546063409828061,4.015564396817347,6.62676477192964])|\n",
      "|Tech titans who are trying to live forever might soon have new ammunition: Next-gen anti-aging pills                                                |[tech, titans, who, be, try, to, live, forever, might, soon, have, new, ammunition, next, gen, anti, age, pills]                                                         |[tech, titans, try, live, forever, might, soon, new, ammunition, next, gen, anti, age, pills]                                                    |(262144,[24549,33053,54961,89833,136336,137527,143057,147703,195155,203513,205069,211379,213605,256468],[1.0,1.0,1.0,1.0,1.0,1.0,1.0,1.0,1.0,1.0,1.0,1.0,1.0,1.0])                                                        |(262144,[24549,33053,54961,89833,136336,137527,143057,147703,195155,203513,205069,211379,213605,256468],[8.322676282367567,4.879367415355285,3.450438270820552,2.225037035010972,6.766230900073976,8.355466105190558,5.097369567169076,5.631980095958508,5.238992213940438,9.048613285750504,8.043091420148405,5.055932377304902,4.241318915672277,4.69704585856133])                                                                                                                                  |\n",
      "|Bank of England governor says the UK is facing a wage-price spiral                                                                                  |[bank, of, england, governor, say, the, uk, be, face, a, wage, price, spiral]                                                                                            |[bank, england, governor, say, uk, face, wage, price, spiral]                                                                                    |(262144,[47552,83104,109687,143025,146390,171222,201386,206130,247394],[1.0,1.0,1.0,1.0,1.0,1.0,1.0,1.0,1.0])                                                                                                             |(262144,[47552,83104,109687,143025,146390,171222,201386,206130,247394],[4.7258060107365925,6.936381921247676,4.5152972035303955,7.645789622679402,3.953228429900545,1.602222682363108,3.251542876670745,6.363035940500351,4.000896316749715])                                                                                                                                                                                                                                                          |\n",
      "|Congratulation Erling Haaland who score goals last match with Manchester United                                                                     |[congratulation, erling, haaland, who, score, goals, last, match, with, manchester, unite]                                                                               |[congratulation, erling, haaland, score, goals, last, match, manchester, unite]                                                                  |(262144,[5381,14829,15287,30644,48689,81892,123797,134029,179671],[1.0,1.0,1.0,1.0,1.0,1.0,1.0,1.0,1.0])                                                                                                                  |(262144,[5381,14829,15287,30644,48689,81892,123797,134029,179671],[2.9887115770892927,3.3049692776691715,10.658051198184603,5.742948330809911,4.562226635752379,11.756663486852712,11.756663486852712,5.241950795980183,4.222969777004081])                                                                                                                                                                                                                                                            |\n",
      "+----------------------------------------------------------------------------------------------------------------------------------------------------+-------------------------------------------------------------------------------------------------------------------------------------------------------------------------+-------------------------------------------------------------------------------------------------------------------------------------------------+--------------------------------------------------------------------------------------------------------------------------------------------------------------------------------------------------------------------------+-------------------------------------------------------------------------------------------------------------------------------------------------------------------------------------------------------------------------------------------------------------------------------------------------------------------------------------------------------------------------------------------------------------------------------------------------------------------------------------------------------+\n",
      "\n"
     ]
    }
   ],
   "source": [
    "rescaled_example.show(truncate=False)"
   ]
  },
  {
   "cell_type": "code",
   "execution_count": 120,
   "id": "8f31b4cb-4273-4e33-9066-6f75f1884cdb",
   "metadata": {
    "tags": []
   },
   "outputs": [
    {
     "name": "stdout",
     "output_type": "stream",
     "text": [
      "+--------------------+--------------------+--------------------+--------------------+--------------------+--------------------+--------------------+----------+\n",
      "|        descriptions|  descriptions_words|            filtered|        raw_features|            features|       rawPrediction|         probability|prediction|\n",
      "+--------------------+--------------------+--------------------+--------------------+--------------------+--------------------+--------------------+----------+\n",
      "|President Xi Jinp...|[president, xi, j...|[president, xi, j...|(262144,[37131,66...|(262144,[37131,66...|[0.92790114622585...|[0.48771046799863...|       0.0|\n",
      "|Tech titans who a...|[tech, titans, wh...|[tech, titans, tr...|(262144,[24549,33...|(262144,[24549,33...|[0.03308669485945...|[0.22800121118917...|       1.0|\n",
      "|Bank of England g...|[bank, of, englan...|[bank, england, g...|(262144,[47552,83...|(262144,[47552,83...|[0.79576450181661...|[0.48594230719680...|       0.0|\n",
      "|Congratulation Er...|[congratulation, ...|[congratulation, ...|(262144,[5381,148...|(262144,[5381,148...|[-0.5474964017587...|[0.12037240138845...|       2.0|\n",
      "+--------------------+--------------------+--------------------+--------------------+--------------------+--------------------+--------------------+----------+\n",
      "\n"
     ]
    }
   ],
   "source": [
    "pred_example1 = lrModel.transform(rescaled_example)\n",
    "pred_example1.show()"
   ]
  },
  {
   "cell_type": "code",
   "execution_count": null,
   "id": "72c663c2-af73-4d07-b3ff-83159b2f355b",
   "metadata": {},
   "outputs": [],
   "source": []
  }
 ],
 "metadata": {
  "kernelspec": {
   "display_name": "Python 3 (ipykernel)",
   "language": "python",
   "name": "python3"
  },
  "language_info": {
   "codemirror_mode": {
    "name": "ipython",
    "version": 3
   },
   "file_extension": ".py",
   "mimetype": "text/x-python",
   "name": "python",
   "nbconvert_exporter": "python",
   "pygments_lexer": "ipython3",
   "version": "3.10.9"
  }
 },
 "nbformat": 4,
 "nbformat_minor": 5
}
