{
 "cells": [
  {
   "cell_type": "code",
   "execution_count": 1,
   "id": "5d5fe0d2-046a-4ed7-bfe4-c53d909b36d9",
   "metadata": {
    "tags": []
   },
   "outputs": [],
   "source": [
    "import os\n",
    "import csv\n",
    "import requests\n",
    "import pandas as pd\n",
    "from pyspark.sql import SparkSession, functions\n",
    "from utilities.extract import get_today"
   ]
  },
  {
   "cell_type": "code",
   "execution_count": 2,
   "id": "9c946e27-c639-47ec-8c58-cbf32c00353e",
   "metadata": {
    "tags": []
   },
   "outputs": [],
   "source": [
    "spark = SparkSession \\\n",
    "      .builder \\\n",
    "      .appName(\"Spark Ingestion\") \\\n",
    "      .getOrCreate()"
   ]
  },
  {
   "cell_type": "code",
   "execution_count": 3,
   "id": "d69f0330-e64d-4219-93e8-5eceeda62661",
   "metadata": {
    "tags": []
   },
   "outputs": [],
   "source": [
    "datasets_path = '/home/jovyan/raw_data'"
   ]
  },
  {
   "cell_type": "code",
   "execution_count": 4,
   "id": "d6ec6595-93e5-4d8c-a1ce-d20055e479dd",
   "metadata": {
    "tags": []
   },
   "outputs": [],
   "source": [
    "def ingest_movies_data() : \n",
    "    movies_file = os.path.join(datasets_path, get_today(), 'movies.csv')\n",
    "    if not os.path.exists(movies_file):\n",
    "        print(\"File does not exist\")\n",
    "        return \n",
    "    movies_raw_data = spark.sparkContext.textFile(movies_file).map(lambda line: next(csv.reader([line])))\n",
    "    movies_raw_data_header = movies_raw_data.take(1)[0]\n",
    "    movies_data = movies_raw_data.filter(lambda line: line!=movies_raw_data_header).map(lambda tokens: (tokens[0],tokens[1],tokens[2]))\n",
    "    movies_data = movies_data.toDF([\"movieId\", \"title\", \"genres\"])\n",
    "    movies_data.write \\\n",
    "              .mode(\"append\") \\\n",
    "              .format(\"jdbc\") \\\n",
    "              .option(\"driver\",\"com.mysql.cj.jdbc.Driver\") \\\n",
    "              .option(\"url\", \"jdbc:mysql://cap2-database/MovieLens\") \\\n",
    "              .option(\"dbtable\", \"movies\") \\\n",
    "              .option(\"user\", \"root\") \\\n",
    "              .option(\"password\", \"123\") \\\n",
    "              .save()\n",
    "    print(\"Ingest movies data successfully\")\n",
    "    return movies_raw_data"
   ]
  },
  {
   "cell_type": "code",
   "execution_count": 5,
   "id": "b687c434-a110-49dc-b4fc-27b5841b2ab4",
   "metadata": {
    "tags": []
   },
   "outputs": [],
   "source": [
    "def ingest_links_data():\n",
    "    links_file = os.path.join(datasets_path, get_today(), 'links.csv')\n",
    "    if not os.path.exists(links_file):\n",
    "        print(\"File does not exist\")\n",
    "        return \n",
    "    links_raw_data = spark.sparkContext.textFile(links_file)\n",
    "    links_raw_data_header = links_raw_data.take(1)[0]\n",
    "    links_data = links_raw_data.filter(lambda line: line!=links_raw_data_header)\\\n",
    "        .map(lambda line: line.split(\",\")).map(lambda tokens: (tokens[0],tokens[1],tokens[2]))\n",
    "    links_data = links_data.toDF([\"movieId\", \"imdbId\", \"tmdbId\"])\n",
    "    links_data.write \\\n",
    "              .mode(\"append\") \\\n",
    "              .format(\"jdbc\") \\\n",
    "              .option(\"driver\",\"com.mysql.cj.jdbc.Driver\") \\\n",
    "              .option(\"url\", \"jdbc:mysql://cap2-database/MovieLens\") \\\n",
    "              .option(\"dbtable\", \"links\") \\\n",
    "              .option(\"user\", \"root\") \\\n",
    "              .option(\"password\", \"123\") \\\n",
    "              .save()\n",
    "    print(\"Ingest links data successfully\")"
   ]
  },
  {
   "cell_type": "code",
   "execution_count": 6,
   "id": "e606d45c-09d6-40fa-8244-6763c56a08e8",
   "metadata": {
    "tags": []
   },
   "outputs": [],
   "source": [
    "def ingest_tags_data():\n",
    "    tags_file = os.path.join(datasets_path, get_today(), 'tags.csv')\n",
    "    if not os.path.exists(tags_file):\n",
    "        print(\"File does not exist\")\n",
    "        return \n",
    "    tags_raw_data = spark.sparkContext.textFile(tags_file)\n",
    "    tags_raw_data_header = tags_raw_data.take(1)[0]\n",
    "    tags_data = tags_raw_data.filter(lambda line: line!=tags_raw_data_header)\\\n",
    "        .map(lambda line: line.split(\",\")).map(lambda tokens: (tokens[0],tokens[1],tokens[2],tokens[3]))\n",
    "    tags_data = tags_data.toDF([\"userId\", \"movieId\", \"tag\", \"tagTime\"])\n",
    "    tags_data = tags_data.select(functions.col(\"userId\"), \\\n",
    "                                 functions.col(\"movieId\"), \\\n",
    "                                 functions.col(\"tag\"), \\\n",
    "                                 functions.from_unixtime(functions.col(\"tagTime\")).alias(\"tagTime\"))\n",
    "    tags_data.write \\\n",
    "              .mode(\"append\") \\\n",
    "              .format(\"jdbc\") \\\n",
    "              .option(\"driver\",\"com.mysql.cj.jdbc.Driver\") \\\n",
    "              .option(\"url\", \"jdbc:mysql://cap2-database/MovieLens\") \\\n",
    "              .option(\"dbtable\", \"tags\") \\\n",
    "              .option(\"user\", \"root\") \\\n",
    "              .option(\"password\", \"123\") \\\n",
    "              .save()\n",
    "    print(\"Ingest tags data successfully\")"
   ]
  },
  {
   "cell_type": "code",
   "execution_count": 7,
   "id": "71058049-7841-4fd0-b8e5-939709079b40",
   "metadata": {
    "tags": []
   },
   "outputs": [],
   "source": [
    "def ingest_ratings_data() : \n",
    "    ratings_file = os.path.join(datasets_path, get_today(), 'ratings.csv')\n",
    "    if not os.path.exists(ratings_file):\n",
    "        print(\"File does not exist\")\n",
    "        return \n",
    "    ratings_raw_data = spark.sparkContext.textFile(ratings_file)\n",
    "    ratings_raw_data_header = ratings_raw_data.take(1)[0]\n",
    "    ratings_data = ratings_raw_data.filter(lambda line: line!=ratings_raw_data_header)\\\n",
    "        .map(lambda line: line.split(\",\")).map(lambda tokens: (tokens[0],tokens[1],tokens[2],tokens[3]))\n",
    "    ratings_data = ratings_data.toDF([\"userId\", \"movieId\", \"ratingScore\", \"ratingTime\"])\n",
    "    ratings_data = ratings_data.select(functions.col(\"userId\"), \\\n",
    "                                       functions.col(\"movieId\"), \\\n",
    "                                       functions.col(\"ratingScore\"), \\\n",
    "                                       functions.from_unixtime(functions.col(\"ratingTime\")).alias(\"ratingTime\"))\n",
    "    ratings_data.write \\\n",
    "              .mode(\"append\") \\\n",
    "              .format(\"jdbc\") \\\n",
    "              .option(\"driver\",\"com.mysql.cj.jdbc.Driver\") \\\n",
    "              .option(\"url\", \"jdbc:mysql://cap2-database/MovieLens\") \\\n",
    "              .option(\"dbtable\", \"ratings\") \\\n",
    "              .option(\"user\", \"root\") \\\n",
    "              .option(\"password\", \"123\") \\\n",
    "              .save()\n",
    "    print(\"Ingest ratings data successfully\")"
   ]
  },
  {
   "cell_type": "code",
   "execution_count": null,
   "id": "4e4e8b40-3324-429c-bd7e-77466419a2c0",
   "metadata": {
    "tags": []
   },
   "outputs": [],
   "source": [
    "def get_movie_information():\n",
    "    movies_data = spark.read \\\n",
    "                        .format(\"jdbc\") \\\n",
    "                        .option(\"driver\",\"com.mysql.cj.jdbc.Driver\") \\\n",
    "                        .option(\"url\", \"jdbc:mysql://cap2-database/MovieLens\") \\\n",
    "                        .option(\"dbtable\", \"movies\") \\\n",
    "                        .option(\"user\", \"root\") \\\n",
    "                        .option(\"password\", \"123\") \\\n",
    "                        .load()\\\n",
    "                        .rdd\n",
    "    movies_detail_data = spark.read \\\n",
    "                        .format(\"jdbc\") \\\n",
    "                        .option(\"driver\",\"com.mysql.cj.jdbc.Driver\") \\\n",
    "                        .option(\"url\", \"jdbc:mysql://cap2-database/MovieLens\") \\\n",
    "                        .option(\"dbtable\", \"movies_detail\") \\\n",
    "                        .option(\"user\", \"root\") \\\n",
    "                        .option(\"password\", \"123\") \\\n",
    "                        .load()\\\n",
    "                        .rdd\n",
    "    movies_detail_data = movies_detail_data.map(lambda x: x[0]).collect()\n",
    "    new_movies = movies_data.filter(lambda r: r[0] not in movies_detail_data).map(lambda x: x[0]).collect()\n",
    "    links_data =   spark.read \\\n",
    "                        .format(\"jdbc\") \\\n",
    "                        .option(\"driver\",\"com.mysql.cj.jdbc.Driver\") \\\n",
    "                        .option(\"url\", \"jdbc:mysql://cap2-database/MovieLens\") \\\n",
    "                        .option(\"dbtable\", \"links\") \\\n",
    "                        .option(\"user\", \"root\") \\\n",
    "                        .option(\"password\", \"123\") \\\n",
    "                        .load()\\\n",
    "                        .rdd\n",
    "    movie_links = links_data.filter(lambda r: r[0] in new_movies).map(lambda x: x[2]).collect()\n",
    "    api_key = '59bdc898ca49489bafe29fb36f895728'\n",
    "    movies_detail_df = pd.DataFrame(columns = ['movieId', 'title', 'releaseDate', 'genres', 'runtime', \n",
    "                                               'overview', 'backgroundPath', 'posterPath'])\n",
    "    count = 0\n",
    "    for movie_link in movie_links : \n",
    "        detail_url = 'https://api.themoviedb.org/3/movie/%s?api_key=%s&language=en-US' % (movie_link, api_key)\n",
    "        response = requests.get(detail_url).json()\n",
    "        movieId = new_movies[count]\n",
    "        try :\n",
    "            title = response['original_title'] or response['title']\n",
    "        except : \n",
    "            continue\n",
    "        releaseDate = response['release_date'] or None\n",
    "        genres = []\n",
    "        for genre in response['genres'] :\n",
    "            genres.append(genre['name'])\n",
    "        genres = ', '.join(genres)\n",
    "        runtime = response['runtime']\n",
    "        overview = response['overview']\n",
    "        backgroundPath = response['backdrop_path']\n",
    "        posterPath = response['poster_path']\n",
    "        movies_detail_df_aux = pd.DataFrame({'movieId': [movieId], 'title': [title], 'releaseDate': [releaseDate], 'genres': [genres], \n",
    "                                             'runtime': [runtime], 'overview': [overview], 'backgroundPath': [backgroundPath], \n",
    "                                             'posterPath': [posterPath]})\n",
    "        movies_detail_df = pd.concat([movies_detail_df, movies_detail_df_aux], ignore_index = True, axis = 0)\n",
    "        if count % 200 == 0 or count == len(movie_links) - 1 : \n",
    "            movies_detail_df = spark.createDataFrame(movies_detail_df)\n",
    "            movies_detail_df.write \\\n",
    "                          .mode(\"append\") \\\n",
    "                          .format(\"jdbc\") \\\n",
    "                          .option(\"driver\",\"com.mysql.cj.jdbc.Driver\") \\\n",
    "                          .option(\"url\", \"jdbc:mysql://cap2-database/MovieLens\") \\\n",
    "                          .option(\"dbtable\", \"movies_detail\") \\\n",
    "                          .option(\"user\", \"root\") \\\n",
    "                          .option(\"password\", \"123\") \\\n",
    "                          .save()\n",
    "            movies_detail_df = pd.DataFrame(columns = ['movieId', 'title', 'releaseDate', 'genres', 'runtime', \n",
    "                                                       'overview', 'backgroundPath', 'posterPath'])\n",
    "        print(movieId)\n",
    "        count += 1\n",
    "    print(\"Ingest movies detail data successfully\")"
   ]
  },
  {
   "cell_type": "code",
   "execution_count": 12,
   "id": "2c07e263-8b03-4649-9009-079c75e2c799",
   "metadata": {
    "tags": []
   },
   "outputs": [
    {
     "name": "stdout",
     "output_type": "stream",
     "text": [
      "Ingest movies data successfully\n",
      "Ingest links data successfully\n",
      "Ingest tags data successfully\n",
      "Ingest ratings data successfully\n",
      "Ingest movies detail data successfully\n"
     ]
    }
   ],
   "source": [
    "if __name__ == '__main__' : \n",
    "    ingest_movies_data()\n",
    "    ingest_links_data()\n",
    "    ingest_tags_data()\n",
    "    ingest_ratings_data()\n",
    "    get_movie_information()"
   ]
  },
  {
   "cell_type": "code",
   "execution_count": null,
   "id": "1f72f2ae-ad7f-49ac-9534-89e5a38fe72d",
   "metadata": {},
   "outputs": [],
   "source": []
  }
 ],
 "metadata": {
  "kernelspec": {
   "display_name": "Python 3 (ipykernel)",
   "language": "python",
   "name": "python3"
  },
  "language_info": {
   "codemirror_mode": {
    "name": "ipython",
    "version": 3
   },
   "file_extension": ".py",
   "mimetype": "text/x-python",
   "name": "python",
   "nbconvert_exporter": "python",
   "pygments_lexer": "ipython3",
   "version": "3.10.9"
  }
 },
 "nbformat": 4,
 "nbformat_minor": 5
}
