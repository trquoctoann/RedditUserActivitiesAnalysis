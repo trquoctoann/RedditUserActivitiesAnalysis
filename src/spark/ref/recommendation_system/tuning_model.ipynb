{
 "cells": [
  {
   "cell_type": "code",
   "execution_count": 2,
   "id": "3d2d884f-15db-414b-a081-d8b14cf0501b",
   "metadata": {
    "tags": []
   },
   "outputs": [],
   "source": [
    "#import libraries\n",
    "from pyspark.sql import SparkSession\n",
    "from pyspark.mllib.recommendation import ALS\n",
    "from time import time\n",
    "import math"
   ]
  },
  {
   "cell_type": "code",
   "execution_count": 4,
   "id": "cffb3c3b-3c54-4ad7-a5f9-e474332e5221",
   "metadata": {
    "tags": []
   },
   "outputs": [],
   "source": [
    "#create spark session\n",
    "spark = SparkSession.builder \\\n",
    "           .appName('Calculate Model Parameter') \\\n",
    "           .config(\"spark.jars\", \"mysql-connector-j-8.0.32.jar\")\\\n",
    "           .config(\"spark.driver.memory\", \"6g\") \\\n",
    "           .config(\"spark.executor.memory\", \"4g\") \\\n",
    "           .getOrCreate()"
   ]
  },
  {
   "cell_type": "code",
   "execution_count": 5,
   "id": "89ffb7f3-32ed-436f-a3a6-4339230d6dd3",
   "metadata": {
    "tags": []
   },
   "outputs": [],
   "source": [
    "#read ratings data from mysql, gotta use partition to parallel processing because data is too big\n",
    "ratings_data = spark.read \\\n",
    "                    .format(\"jdbc\") \\\n",
    "                    .option(\"driver\",\"com.mysql.cj.jdbc.Driver\") \\\n",
    "                    .option(\"url\", \"jdbc:mysql://cap2-database/MovieLens\") \\\n",
    "                    .option(\"dbtable\", \"ratings\") \\\n",
    "                    .option(\"user\", \"root\") \\\n",
    "                    .option(\"password\", \"123\") \\\n",
    "                    .option('fetchSize', '10000')\\\n",
    "                    .option('partitionColumn', 'ratingTime')\\\n",
    "                    .option('lowerBound', '1995-01-09 11:46:44')\\\n",
    "                    .option('upperBound', '2018-09-26 06:59:09')\\\n",
    "                    .option('numPartitions', '23')\\\n",
    "                    .load()\\\n",
    "                    .rdd"
   ]
  },
  {
   "cell_type": "code",
   "execution_count": 6,
   "id": "79895aa6-d212-4436-9325-69b7d7a94cd1",
   "metadata": {
    "tags": []
   },
   "outputs": [],
   "source": [
    "# get 3 necessary columns to reduce data\n",
    "ratings_data = ratings_data.map(lambda x: (x[1], x[2], x[3]))"
   ]
  },
  {
   "cell_type": "code",
   "execution_count": 7,
   "id": "d3928a58-7fa7-452d-8d48-651e4c31f3cc",
   "metadata": {
    "tags": []
   },
   "outputs": [
    {
     "data": {
      "text/plain": [
       "[(Decimal('56769'), Decimal('1176'), 4.0),\n",
       " (Decimal('237556'), Decimal('21'), 3.0),\n",
       " (Decimal('237556'), Decimal('47'), 5.0),\n",
       " (Decimal('237556'), Decimal('1079'), 3.0),\n",
       " (Decimal('26312'), Decimal('1'), 3.0),\n",
       " (Decimal('26312'), Decimal('2'), 2.0),\n",
       " (Decimal('26312'), Decimal('20'), 3.0),\n",
       " (Decimal('26312'), Decimal('21'), 4.0),\n",
       " (Decimal('26312'), Decimal('22'), 3.0),\n",
       " (Decimal('26312'), Decimal('23'), 4.0)]"
      ]
     },
     "execution_count": 7,
     "metadata": {},
     "output_type": "execute_result"
    }
   ],
   "source": [
    "ratings_data.take(10)"
   ]
  },
  {
   "cell_type": "code",
   "execution_count": 8,
   "id": "ef0b7c24-f4c2-46c1-b6a7-351c02eaf6c5",
   "metadata": {
    "tags": []
   },
   "outputs": [],
   "source": [
    "# split data to train, validation, test\n",
    "train, validation, test = ratings_data.randomSplit([6, 2, 2], seed=0)\n",
    "validation_for_predict = validation.map(lambda x: (x[0], x[1]))\n",
    "test_for_predict = test.map(lambda x: (x[0], x[1]))"
   ]
  },
  {
   "cell_type": "code",
   "execution_count": 9,
   "id": "2e0dab69-f0bf-4224-9b00-0faed5bcf258",
   "metadata": {
    "tags": []
   },
   "outputs": [
    {
     "data": {
      "text/plain": [
       "[(Decimal('56769'), Decimal('1176'), 4.0),\n",
       " (Decimal('237556'), Decimal('21'), 3.0),\n",
       " (Decimal('26312'), Decimal('1'), 3.0),\n",
       " (Decimal('26312'), Decimal('20'), 3.0),\n",
       " (Decimal('26312'), Decimal('31'), 4.0),\n",
       " (Decimal('26312'), Decimal('44'), 4.0),\n",
       " (Decimal('26312'), Decimal('45'), 5.0),\n",
       " (Decimal('26312'), Decimal('47'), 5.0),\n",
       " (Decimal('26312'), Decimal('48'), 1.0),\n",
       " (Decimal('26312'), Decimal('52'), 1.0)]"
      ]
     },
     "execution_count": 9,
     "metadata": {},
     "output_type": "execute_result"
    }
   ],
   "source": [
    "train.take(10)"
   ]
  },
  {
   "cell_type": "code",
   "execution_count": 10,
   "id": "63fbbf01-8c5f-48c0-b597-3cc100deb116",
   "metadata": {
    "tags": []
   },
   "outputs": [
    {
     "name": "stdout",
     "output_type": "stream",
     "text": [
      "For rank 4 the RMSE is 0.8338154411756004. Training process cost 215.481 seconds\n",
      "For rank 8 the RMSE is 0.8214013518469191. Training process cost 231.918 seconds\n",
      "For rank 12 the RMSE is 0.8145828983211091. Training process cost 245.818 seconds\n",
      "For rank 16 the RMSE is 0.8166226126408641. Training process cost 242.284 seconds\n"
     ]
    }
   ],
   "source": [
    "# select parameter\n",
    "seed = 1\n",
    "iterations = 10\n",
    "regularization_parameter = 0.1\n",
    "tolerance = 0.02\n",
    "\n",
    "# find out which is the best 'rank'\n",
    "for rank in range(4, 17, 4):\n",
    "    t0 = time()\n",
    "    model = ALS.train(train, rank = rank, seed = seed, iterations = iterations, lambda_ = regularization_parameter)\n",
    "    time_cost = time() - t0\n",
    "    predictions = model.predictAll(validation_for_predict).map(lambda r: ((r[0], r[1]), r[2]))\n",
    "    rates_and_preds = validation.map(lambda r: ((int(r[0]), int(r[1])), float(r[2]))).join(predictions)\n",
    "    error = math.sqrt(rates_and_preds.map(lambda r: (r[1][0] - r[1][1])**2).mean())\n",
    "    print('For rank %s the RMSE is %s. Training process cost %s seconds' % (rank, error, round(time_cost,3)))\n",
    "#choose rank 12 cause of having lowest RMSE score"
   ]
  },
  {
   "cell_type": "code",
   "execution_count": null,
   "id": "bbde40b3-30c6-4475-96bf-22c78308246e",
   "metadata": {},
   "outputs": [],
   "source": []
  }
 ],
 "metadata": {
  "kernelspec": {
   "display_name": "Python 3 (ipykernel)",
   "language": "python",
   "name": "python3"
  },
  "language_info": {
   "codemirror_mode": {
    "name": "ipython",
    "version": 3
   },
   "file_extension": ".py",
   "mimetype": "text/x-python",
   "name": "python",
   "nbconvert_exporter": "python",
   "pygments_lexer": "ipython3",
   "version": "3.10.9"
  }
 },
 "nbformat": 4,
 "nbformat_minor": 5
}
