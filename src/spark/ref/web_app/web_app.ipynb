{
 "cells": [
  {
   "cell_type": "code",
   "execution_count": 1,
   "id": "35a011e3-9a66-4ed9-ab99-617a8c53fd23",
   "metadata": {
    "tags": []
   },
   "outputs": [],
   "source": [
    "from engine import RecommendationEngine\n",
    "from pyspark.sql import SparkSession\n",
    "import flask\n",
    "import os "
   ]
  },
  {
   "cell_type": "code",
   "execution_count": 2,
   "id": "ee2aed45-8182-4275-a6a4-1aa388be1652",
   "metadata": {
    "tags": []
   },
   "outputs": [],
   "source": [
    "spark = SparkSession.builder \\\n",
    "           .appName('Web App') \\\n",
    "           .config(\"spark.jars\", \"mysql-connector-j-8.0.32.jar\")\\\n",
    "           .config(\"spark.driver.memory\", \"6g\") \\\n",
    "           .config(\"spark.executor.memory\", \"4g\") \\\n",
    "           .getOrCreate()"
   ]
  },
  {
   "cell_type": "code",
   "execution_count": 3,
   "id": "fa51e8f6-03d9-42e8-8e36-6127949ccc14",
   "metadata": {
    "tags": []
   },
   "outputs": [],
   "source": [
    "path = os.getcwd()"
   ]
  },
  {
   "cell_type": "code",
   "execution_count": 4,
   "id": "ace4ad16-34c1-41a9-ad54-4ec81597bd41",
   "metadata": {
    "tags": []
   },
   "outputs": [],
   "source": [
    "movies_detail_data =  spark.read.format(\"jdbc\").option(\"driver\",\"com.mysql.cj.jdbc.Driver\") \\\n",
    "                                .option(\"url\", \"jdbc:mysql://cap2-database/MovieLens\").option(\"dbtable\", \"movies_detail\") \\\n",
    "                                .option(\"user\", \"root\").option(\"password\", \"123\").load().rdd.cache()"
   ]
  },
  {
   "cell_type": "code",
   "execution_count": 5,
   "id": "90e8151f-aa89-4c01-b646-24275b3c3fac",
   "metadata": {
    "tags": []
   },
   "outputs": [
    {
     "name": "stderr",
     "output_type": "stream",
     "text": [
      "INFO:engine:Starting up the Recommendation Engine: \n",
      "INFO:engine:Loading Movies data...\n",
      "INFO:engine:Loading Ratings data...\n",
      "INFO:engine:Loading Users data...\n",
      "INFO:engine:Counting how many ratings per movie...\n",
      "INFO:engine:Training the ALS model...\n",
      "INFO:engine:ALS model built!\n"
     ]
    }
   ],
   "source": [
    "engine = RecommendationEngine(spark)"
   ]
  },
  {
   "cell_type": "code",
   "execution_count": null,
   "id": "df9aa459-2e28-4247-b949-3a802c8d15dd",
   "metadata": {
    "tags": []
   },
   "outputs": [
    {
     "name": "stdout",
     "output_type": "stream",
     "text": [
      " * Serving Flask app '__main__'\n",
      " * Debug mode: off\n"
     ]
    },
    {
     "name": "stderr",
     "output_type": "stream",
     "text": [
      "INFO:werkzeug:\u001b[31m\u001b[1mWARNING: This is a development server. Do not use it in a production deployment. Use a production WSGI server instead.\u001b[0m\n",
      " * Running on all addresses (0.0.0.0)\n",
      " * Running on http://127.0.0.1:5000\n",
      " * Running on http://172.19.0.3:5000\n",
      "INFO:werkzeug:\u001b[33mPress CTRL+C to quit\u001b[0m\n",
      "INFO:werkzeug:172.19.0.1 - - [25/Apr/2023 03:05:59] \"GET / HTTP/1.1\" 200 -\n",
      "INFO:werkzeug:172.19.0.1 - - [25/Apr/2023 03:06:01] \"\u001b[33mGET /favicon.ico HTTP/1.1\u001b[0m\" 404 -\n",
      "INFO:werkzeug:172.19.0.1 - - [25/Apr/2023 03:06:34] \"POST / HTTP/1.1\" 200 -\n",
      "INFO:py4j.clientserver:Closing down clientserver connection\n",
      "INFO:werkzeug:172.19.0.1 - - [25/Apr/2023 03:07:09] \"POST / HTTP/1.1\" 200 -\n",
      "INFO:py4j.clientserver:Closing down clientserver connection\n",
      "INFO:werkzeug:172.19.0.1 - - [25/Apr/2023 03:08:02] \"GET / HTTP/1.1\" 200 -\n",
      "INFO:werkzeug:172.19.0.1 - - [25/Apr/2023 03:08:13] \"POST / HTTP/1.1\" 200 -\n",
      "INFO:py4j.clientserver:Closing down clientserver connection\n",
      "INFO:werkzeug:172.19.0.1 - - [25/Apr/2023 03:09:11] \"GET / HTTP/1.1\" 200 -\n",
      "INFO:werkzeug:172.19.0.1 - - [25/Apr/2023 03:09:25] \"POST / HTTP/1.1\" 200 -\n",
      "INFO:py4j.clientserver:Closing down clientserver connection\n",
      "INFO:werkzeug:172.19.0.1 - - [25/Apr/2023 03:11:04] \"GET / HTTP/1.1\" 200 -\n",
      "INFO:werkzeug:172.19.0.1 - - [25/Apr/2023 03:11:19] \"POST / HTTP/1.1\" 200 -\n",
      "INFO:py4j.clientserver:Closing down clientserver connection\n"
     ]
    }
   ],
   "source": [
    "app = flask.Flask(__name__, template_folder = os.path.join(path, 'template'))\n",
    "@app.route('/', methods = ['GET', 'POST'])\n",
    "def main():\n",
    "    if flask.request.method == 'GET':\n",
    "        return flask.render_template('index.html')\n",
    "            \n",
    "    if flask.request.method == 'POST':\n",
    "        user_id = flask.request.form['user_id']\n",
    "        results = engine.get_top_ratings(int(user_id))\n",
    "        recommendations = []\n",
    "        for result in results: \n",
    "            recommendation = []\n",
    "            movieId = result[0]\n",
    "            rating = result[1]\n",
    "            count = result[2]\n",
    "            details = movies_detail_data.filter(lambda x: x[0] == movieId).collect()\n",
    "            for detail in details :\n",
    "                recommendation.append(detail)\n",
    "            recommendation.append(rating)\n",
    "            recommendation.append(count)\n",
    "            recommendations.append(recommendation)\n",
    "        return flask.render_template('result.html', userId = user_id, recommendations = recommendations)\n",
    "\n",
    "if __name__ == '__main__':\n",
    "    app.run(host=\"0.0.0.0\")"
   ]
  },
  {
   "cell_type": "code",
   "execution_count": null,
   "id": "a78d1353-6bae-449d-be0b-09846ac85320",
   "metadata": {},
   "outputs": [],
   "source": []
  }
 ],
 "metadata": {
  "kernelspec": {
   "display_name": "Python 3 (ipykernel)",
   "language": "python",
   "name": "python3"
  },
  "language_info": {
   "codemirror_mode": {
    "name": "ipython",
    "version": 3
   },
   "file_extension": ".py",
   "mimetype": "text/x-python",
   "name": "python",
   "nbconvert_exporter": "python",
   "pygments_lexer": "ipython3",
   "version": "3.10.9"
  }
 },
 "nbformat": 4,
 "nbformat_minor": 5
}
