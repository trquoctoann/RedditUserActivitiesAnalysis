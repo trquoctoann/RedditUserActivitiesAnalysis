{
 "cells": [
  {
   "cell_type": "code",
   "execution_count": 1,
   "id": "f07100e8-30a4-41c6-8959-e66cb2b0ba40",
   "metadata": {
    "tags": []
   },
   "outputs": [
    {
     "name": "stderr",
     "output_type": "stream",
     "text": [
      "[nltk_data] Downloading package wordnet to /home/jovyan/nltk_data...\n",
      "[nltk_data]   Package wordnet is already up-to-date!\n"
     ]
    }
   ],
   "source": [
    "import os \n",
    "import flask\n",
    "import pandas as pd\n",
    "from pyspark.sql import SparkSession\n",
    "from pyspark.sql import functions\n",
    "from pyspark.sql.functions import col, udf\n",
    "from engine import TextClassificationEngine, TopicModellingModel\n",
    "from utilities import (\n",
    "    send_request_reddit_get_new_post, \n",
    "    get_subtopic_top_word,\n",
    "    get_most_popular_topic,\n",
    "    get_background_image\n",
    ")"
   ]
  },
  {
   "cell_type": "code",
   "execution_count": 2,
   "id": "a30079b0-aafe-465a-81e4-5788e0dfd595",
   "metadata": {
    "tags": []
   },
   "outputs": [],
   "source": [
    "spark = SparkSession.builder \\\n",
    "           .appName('Web Appp') \\\n",
    "           .config(\"spark.jars\", \"mysql-connector-j-8.0.32.jar\")\\\n",
    "           .config(\"spark.driver.memory\", \"6g\") \\\n",
    "           .config(\"spark.executor.memory\", \"8g\") \\\n",
    "           .getOrCreate()"
   ]
  },
  {
   "cell_type": "code",
   "execution_count": 3,
   "id": "29065808-fb80-4462-89d1-694dbec82e55",
   "metadata": {
    "tags": []
   },
   "outputs": [],
   "source": [
    "path = os.getcwd()"
   ]
  },
  {
   "cell_type": "code",
   "execution_count": 4,
   "id": "7137650a-2a4b-4cea-9e11-be4d922d3c9a",
   "metadata": {
    "tags": []
   },
   "outputs": [
    {
     "name": "stderr",
     "output_type": "stream",
     "text": [
      "INFO:engine:Starting up text classification engine: \n",
      "INFO:engine:Loading labled data...\n",
      "INFO:engine:Loading completed\n",
      "INFO:engine:Preprocessing data...\n",
      "INFO:engine:Preprocessing completed\n",
      "INFO:engine:Vectorize data...\n",
      "INFO:engine:Vectorization completed\n",
      "INFO:engine:Training text classification model...\n",
      "INFO:engine:Text classification model built!\n"
     ]
    }
   ],
   "source": [
    "label_engine = TextClassificationEngine(spark)"
   ]
  },
  {
   "cell_type": "code",
   "execution_count": 5,
   "id": "0320648a-813a-4845-8e8a-8af6c1d5ec2a",
   "metadata": {
    "tags": []
   },
   "outputs": [
    {
     "name": "stderr",
     "output_type": "stream",
     "text": [
      "INFO:engine:Starting up model LDA Business: \n",
      "INFO:engine:Loading data...\n",
      "INFO:engine:Loading completed\n",
      "INFO:engine:Preprocessing data...\n",
      "INFO:engine:Preprocessing completed\n",
      "INFO:engine:LDA Business model built!\n"
     ]
    }
   ],
   "source": [
    "business_engine = TopicModellingModel(spark, 'Business', 3)"
   ]
  },
  {
   "cell_type": "code",
   "execution_count": 6,
   "id": "0456a687-b8db-4516-b5d7-19e5e0f2731f",
   "metadata": {
    "tags": []
   },
   "outputs": [
    {
     "name": "stderr",
     "output_type": "stream",
     "text": [
      "INFO:engine:Starting up model LDA Business: \n",
      "INFO:engine:Loading data...\n",
      "INFO:engine:Loading completed\n",
      "INFO:engine:Preprocessing data...\n",
      "INFO:engine:Preprocessing completed\n",
      "INFO:engine:LDA Business model built!\n"
     ]
    }
   ],
   "source": [
    "tech_engine = TopicModellingModel(spark, 'Sci/Tech', 4)"
   ]
  },
  {
   "cell_type": "code",
   "execution_count": 7,
   "id": "60fbad65-fd09-42ff-84dc-846d3b35f6cb",
   "metadata": {
    "tags": []
   },
   "outputs": [
    {
     "name": "stderr",
     "output_type": "stream",
     "text": [
      "INFO:engine:Starting up model LDA Business: \n",
      "INFO:engine:Loading data...\n",
      "INFO:engine:Loading completed\n",
      "INFO:engine:Preprocessing data...\n",
      "INFO:engine:Preprocessing completed\n",
      "INFO:engine:LDA Business model built!\n"
     ]
    }
   ],
   "source": [
    "sports_engine = TopicModellingModel(spark, 'Sports', 4)"
   ]
  },
  {
   "cell_type": "code",
   "execution_count": 8,
   "id": "daf5678a-1bd1-4aef-8f3d-46bd82dd823a",
   "metadata": {
    "tags": []
   },
   "outputs": [
    {
     "name": "stderr",
     "output_type": "stream",
     "text": [
      "INFO:engine:Starting up model LDA Business: \n",
      "INFO:engine:Loading data...\n",
      "INFO:engine:Loading completed\n",
      "INFO:engine:Preprocessing data...\n",
      "INFO:engine:Preprocessing completed\n",
      "INFO:engine:LDA Business model built!\n"
     ]
    }
   ],
   "source": [
    "world_engine = TopicModellingModel(spark, 'World', 3)"
   ]
  },
  {
   "cell_type": "code",
   "execution_count": 9,
   "id": "d39d8653-20ad-4c00-976a-2348eb716e7b",
   "metadata": {
    "tags": []
   },
   "outputs": [],
   "source": [
    "def choose_engine(label_name): \n",
    "    if label_name == 'Business' :\n",
    "        return business_engine\n",
    "    elif label_name == 'Sci/Tech' :\n",
    "        return tech_engine\n",
    "    elif label_name == 'Sports' : \n",
    "        return sports_engine\n",
    "    else : \n",
    "        return world_engine"
   ]
  },
  {
   "cell_type": "code",
   "execution_count": 42,
   "id": "0ab00cd4-d36a-4bd3-a0f8-f159b491293e",
   "metadata": {
    "tags": []
   },
   "outputs": [
    {
     "name": "stdout",
     "output_type": "stream",
     "text": [
      " * Serving Flask app '__main__'\n",
      " * Debug mode: off\n"
     ]
    },
    {
     "name": "stderr",
     "output_type": "stream",
     "text": [
      "INFO:werkzeug:\u001b[31m\u001b[1mWARNING: This is a development server. Do not use it in a production deployment. Use a production WSGI server instead.\u001b[0m\n",
      " * Running on all addresses (0.0.0.0)\n",
      " * Running on http://127.0.0.1:5000\n",
      " * Running on http://172.21.0.3:5000\n",
      "INFO:werkzeug:\u001b[33mPress CTRL+C to quit\u001b[0m\n",
      "INFO:werkzeug:172.21.0.1 - - [09/Jun/2023 02:10:41] \"GET / HTTP/1.1\" 200 -\n",
      "/usr/local/spark/python/pyspark/sql/pandas/conversion.py:486: FutureWarning: iteritems is deprecated and will be removed in a future version. Use .items instead.\n",
      "  for column, series in pdf.iteritems():\n",
      "INFO:werkzeug:172.21.0.1 - - [09/Jun/2023 02:11:03] \"POST / HTTP/1.1\" 200 -\n",
      "INFO:py4j.clientserver:Closing down clientserver connection\n",
      "INFO:werkzeug:172.21.0.1 - - [09/Jun/2023 02:11:03] \"\u001b[33mGET /None HTTP/1.1\u001b[0m\" 404 -\n",
      "INFO:werkzeug:172.21.0.1 - - [09/Jun/2023 02:11:28] \"GET / HTTP/1.1\" 200 -\n",
      "INFO:werkzeug:172.21.0.1 - - [09/Jun/2023 02:11:30] \"GET /test HTTP/1.1\" 200 -\n",
      "INFO:werkzeug:172.21.0.1 - - [09/Jun/2023 02:11:34] \"POST /test HTTP/1.1\" 200 -\n",
      "INFO:py4j.clientserver:Closing down clientserver connection\n",
      "INFO:werkzeug:172.21.0.1 - - [09/Jun/2023 02:11:37] \"GET / HTTP/1.1\" 200 -\n"
     ]
    }
   ],
   "source": [
    "app = flask.Flask(__name__, template_folder = os.path.join(path, 'template'))\n",
    "@app.route('/', methods = ['GET', 'POST'])\n",
    "def home():\n",
    "    if flask.request.method == 'GET':\n",
    "        return flask.render_template('home.html')\n",
    "            \n",
    "    if flask.request.method == 'POST':\n",
    "        username = flask.request.form['user_id']\n",
    "        url = f'https://oauth.reddit.com/user/{username}/submitted'\n",
    "        response, status = send_request_reddit_get_new_post(url)\n",
    "        total_post = pd.DataFrame(columns = ['post_id', 'descriptions'])\n",
    "        for post in response['data']['children']:\n",
    "            post_id = post['data']['id']\n",
    "            descriptions = post['data']['title']\n",
    "            total_post_aux = pd.DataFrame({'post_id': [post_id], 'descriptions': [descriptions]})\n",
    "            total_post = pd.concat([total_post_aux, total_post], ignore_index = True, axis = 0)\n",
    "            \n",
    "        predicted_label = label_engine.predict_label(total_post)\n",
    "        grouped_label = predicted_label.groupBy(\"label_name\").count()\n",
    "        label_name = get_most_popular_topic(grouped_label, 'label_name')\n",
    "        considered_post = predicted_label.filter(col('label_name') == label_name)\n",
    "        \n",
    "        topic_engine = choose_engine(label_name)\n",
    "\n",
    "        predicted_topic = topic_engine.predict_topic(considered_post)\n",
    "        grouped_topic = predicted_topic.groupBy(\"topic\").count()\n",
    "        topic = get_most_popular_topic(grouped_topic, 'topic')\n",
    "        \n",
    "        results = topic_engine.get_recommendation(topic).collect()\n",
    "        subtopics = get_subtopic_top_word(topic_engine)\n",
    "            \n",
    "        recommendations = []\n",
    "        for result in results: \n",
    "            recommendation = []\n",
    "            descriptions = result[3]\n",
    "            created_utc = str(result[4])\n",
    "            source_url = result[5]\n",
    "            post_url = result[6]\n",
    "            background_image = get_background_image(source_url)\n",
    "            recommendation.append(descriptions)\n",
    "            recommendation.append(created_utc)\n",
    "            recommendation.append(source_url)\n",
    "            recommendation.append(post_url)\n",
    "            recommendation.append(background_image)\n",
    "            recommendations.append(recommendation)\n",
    "        return flask.render_template('user_result.html', username = username, category = result[7], subtopic = ', '.join(subtopics[result[0]]), recommendations = recommendations)\n",
    "    \n",
    "@app.route('/test', methods=['GET', 'POST'])\n",
    "def test():\n",
    "    if flask.request.method == 'GET':\n",
    "        return flask.render_template('test_model.html')\n",
    "    \n",
    "    if flask.request.method == 'POST':\n",
    "        sentence = flask.request.form['inputValue']\n",
    "        input_df = [('1', sentence)]\n",
    "        predicted_label = label_engine.predict_label(input_df).select('label_name').collect()[0][0]\n",
    "        return flask.render_template('test_model.html', result = predicted_label)\n",
    "\n",
    "if __name__ == '__main__':\n",
    "    app.run(host = \"0.0.0.0\")"
   ]
  },
  {
   "cell_type": "code",
   "execution_count": null,
   "id": "87ad5c7a-964b-4199-adf8-c754c85036ee",
   "metadata": {},
   "outputs": [],
   "source": []
  }
 ],
 "metadata": {
  "kernelspec": {
   "display_name": "Python 3 (ipykernel)",
   "language": "python",
   "name": "python3"
  },
  "language_info": {
   "codemirror_mode": {
    "name": "ipython",
    "version": 3
   },
   "file_extension": ".py",
   "mimetype": "text/x-python",
   "name": "python",
   "nbconvert_exporter": "python",
   "pygments_lexer": "ipython3",
   "version": "3.10.9"
  }
 },
 "nbformat": 4,
 "nbformat_minor": 5
}
